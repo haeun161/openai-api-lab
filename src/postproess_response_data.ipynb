{
 "cells": [
  {
   "cell_type": "markdown",
   "metadata": {},
   "source": [
    "# OpenAI ChatCompletion API 를 비동기/병렬 응답 취합\n",
    "\n",
    "병렬 요청/응답 취합\n",
    "- OpenAI Cookbook 의 `api_request_parallel_processor.py` 를 이용\n",
    "  - 요청 파일에 대해 비동기/병렬 요청\n",
    "  - 응답 결과를 파일에 저장\n",
    "\n",
    "# 응답 파일 가공\n",
    "\n",
    "입력: API 응답이 담긴 JSONL 파일\n",
    "\n",
    "출력: 변환 후 목적에 맞는 결과 파일"
   ]
  },
  {
   "cell_type": "code",
   "execution_count": 1,
   "metadata": {},
   "outputs": [],
   "source": [
    "import pandas as pd\n",
    "# from datasets import Features, ClassLabel, Dataset, DatasetDict\n",
    "import json\n",
    "import re"
   ]
  },
  {
   "cell_type": "code",
   "execution_count": 2,
   "metadata": {},
   "outputs": [],
   "source": [
    "respose_file_path = r'../local_data/api_responses_for_annotated_dataset.jsonl'"
   ]
  },
  {
   "cell_type": "code",
   "execution_count": 3,
   "metadata": {},
   "outputs": [],
   "source": [
    "in_fname =  respose_file_path\n",
    "datas = []\n",
    "request_ids = []\n",
    "# results = {}\n",
    "with open(in_fname, 'r') as f:\n",
    "    for i, line in enumerate(f):\n",
    "        data = json.loads(line)\n",
    "        if isinstance(data[1] , dict):\n",
    "            # results[i] = data\n",
    "            datas.append(data[1]['choices'][0]['message']['content'])\n",
    "            request_ids.append(data[2]['request_id'])"
   ]
  },
  {
   "cell_type": "code",
   "execution_count": 4,
   "metadata": {},
   "outputs": [],
   "source": [
    "df = pd.DataFrame({'request_id': request_ids, 'response': datas})\n",
    "df['response'] = df['response'].str.split('\\n')\n",
    "df.sort_values(by='request_id', inplace=True)\n",
    "\n",
    "# response 컬럼을 펼쳐서 새로운 DataFrame 생성\n",
    "exploded_df = df.explode('response').reset_index(drop=True)\n",
    "\n",
    "# # \"->\" 가 포함된 response만 남기기 (한건 제외됨)\n",
    "# exploded_df = exploded_df[exploded_df['response'].str.contains('->')]"
   ]
  },
  {
   "cell_type": "markdown",
   "metadata": {},
   "source": [
    "**주의**\n",
    "\n",
    "- 제외되는 것들이 있음: 원본 4,239 (응답 결과: 4,201)"
   ]
  },
  {
   "cell_type": "code",
   "execution_count": 5,
   "metadata": {},
   "outputs": [],
   "source": [
    "# 수정된 serial_no, category, keywords 추출 함수\n",
    "def extract_columns_with_list(response):\n",
    "    # '.'이나 ':' 기준으로 첫 구분자까지 split\n",
    "    match = re.match(r'(\\d+)\\s*[.:]', response)\n",
    "    if not match:\n",
    "        return '', '', []\n",
    "    \n",
    "    # serial_no 추출\n",
    "    serial_no = match.group(1).strip()\n",
    "    \n",
    "    # 나머지 부분 추출\n",
    "    rest = response[match.end():].strip()\n",
    "    \n",
    "    rest = rest.split(':')\n",
    "    \n",
    "    category = rest[0].strip()\n",
    "    keywords = []\n",
    "    if len(rest) > 1:\n",
    "        keywords = rest[1:]\n",
    "    \n",
    "    return serial_no, category, keywords\n",
    "\n"
   ]
  },
  {
   "cell_type": "code",
   "execution_count": 6,
   "metadata": {},
   "outputs": [],
   "source": [
    "# apply를 사용하여 수정된 컬럼 생성\n",
    "exploded_df[['serial_no', 'category', 'keywords']] = exploded_df['response'].apply(lambda x: pd.Series(extract_columns_with_list(x)))"
   ]
  },
  {
   "cell_type": "code",
   "execution_count": 7,
   "metadata": {},
   "outputs": [],
   "source": [
    "exploded_df['serial_no'] = exploded_df['serial_no'].astype(int)"
   ]
  },
  {
   "cell_type": "code",
   "execution_count": 8,
   "metadata": {},
   "outputs": [],
   "source": [
    "# request_id를 'tester', 'trial_idx', 'call_id'로 분리\n",
    "exploded_df[['tester', 'trial_idx', 'call_id']] = exploded_df['request_id'].str.split(':', expand=True)\n",
    "\n",
    "# trial_idx와 call_id를 숫자형으로 변환\n",
    "exploded_df['trial_idx'] = exploded_df['trial_idx'].astype(float).astype(int)\n",
    "exploded_df['call_id'] = exploded_df['call_id'].astype(int)"
   ]
  },
  {
   "cell_type": "code",
   "execution_count": 10,
   "metadata": {},
   "outputs": [],
   "source": [
    "# 필요 없는 request_id 컬럼 제거\n",
    "exploded_df = exploded_df.drop(columns=['request_id'])\n"
   ]
  },
  {
   "cell_type": "code",
   "execution_count": 11,
   "metadata": {},
   "outputs": [],
   "source": [
    "exploded_df.to_csv('../local_data/annotated_dataset.csv', index=False)"
   ]
  },
  {
   "cell_type": "markdown",
   "metadata": {},
   "source": [
    "# 원본 엑셀과 병합"
   ]
  },
  {
   "cell_type": "code",
   "execution_count": 12,
   "metadata": {},
   "outputs": [],
   "source": [
    "raw_file_path = r'../local_data/(2024-04-29)구글 디스커버_데이터_수집.xlsx'"
   ]
  },
  {
   "cell_type": "code",
   "execution_count": 13,
   "metadata": {},
   "outputs": [],
   "source": [
    "all_sheets = pd.read_excel(raw_file_path, sheet_name=None)\n",
    "# new_cols = ['url-title', 'source', 'issue-dt', 'title', 'url', 'precision', 'freshness',\n",
    "#        'satisfaction', 'trial-index', 'dt']"
   ]
  },
  {
   "cell_type": "code",
   "execution_count": 14,
   "metadata": {},
   "outputs": [],
   "source": [
    "merged_sheets = {}"
   ]
  },
  {
   "cell_type": "code",
   "execution_count": 15,
   "metadata": {},
   "outputs": [],
   "source": [
    "for key in all_sheets.keys():\n",
    "    tmp_df = exploded_df.query('tester == @key')\n",
    "    tmp_df = pd.merge(all_sheets[key].reset_index(), tmp_df[['category', 'keywords', 'serial_no']], left_on = 'index', right_on=tmp_df.serial_no-1, how='left')\n",
    "    merged_sheets[key] = tmp_df"
   ]
  },
  {
   "cell_type": "code",
   "execution_count": 16,
   "metadata": {},
   "outputs": [],
   "source": [
    "with pd.ExcelWriter('../local_data/(2024-04-29)구글 디스커버_데이터_수집 카테고리_키워드 연결.xlsx') as writer:\n",
    "    for sheet_name, sheet_df in merged_sheets.items():\n",
    "        sheet_df.to_excel(writer, sheet_name=sheet_name, index=False)"
   ]
  },
  {
   "cell_type": "markdown",
   "metadata": {},
   "source": [
    "----"
   ]
  }
 ],
 "metadata": {
  "kernelspec": {
   "display_name": "metal",
   "language": "python",
   "name": "python3"
  },
  "language_info": {
   "codemirror_mode": {
    "name": "ipython",
    "version": 3
   },
   "file_extension": ".py",
   "mimetype": "text/x-python",
   "name": "python",
   "nbconvert_exporter": "python",
   "pygments_lexer": "ipython3",
   "version": "3.10.14"
  }
 },
 "nbformat": 4,
 "nbformat_minor": 2
}
